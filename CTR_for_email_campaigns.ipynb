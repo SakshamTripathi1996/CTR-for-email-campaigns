{
  "cells": [
    {
      "cell_type": "markdown",
      "metadata": {
        "id": "view-in-github",
        "colab_type": "text"
      },
      "source": [
        "<a href=\"https://colab.research.google.com/github/SakshamTripathi1996/CTR-for-email-campaigns/blob/main/CTR_for_email_campaigns.ipynb\" target=\"_parent\"><img src=\"https://colab.research.google.com/assets/colab-badge.svg\" alt=\"Open In Colab\"/></a>"
      ]
    },
    {
      "cell_type": "code",
      "source": [
        "#import pickle\n",
        "#pickle.dump()"
      ],
      "metadata": {
        "id": "MCSOt5AopKUR"
      },
      "execution_count": 2,
      "outputs": []
    },
    {
      "cell_type": "code",
      "execution_count": 3,
      "metadata": {
        "colab": {
          "base_uri": "https://localhost:8080/"
        },
        "id": "CUGExmiAX-E1",
        "outputId": "571c7c30-e75a-4734-8914-01c4b1dffb9a"
      },
      "outputs": [
        {
          "output_type": "stream",
          "name": "stdout",
          "text": [
            "Looking in indexes: https://pypi.org/simple, https://us-python.pkg.dev/colab-wheels/public/simple/\n",
            "Collecting ppscore\n",
            "  Downloading ppscore-1.2.0.tar.gz (47 kB)\n",
            "\u001b[K     |████████████████████████████████| 47 kB 3.1 MB/s \n",
            "\u001b[?25hRequirement already satisfied: pandas<2.0.0,>=1.0.0 in /usr/local/lib/python3.7/dist-packages (from ppscore) (1.3.5)\n",
            "Collecting scikit-learn<1.0.0,>=0.20.2\n",
            "  Downloading scikit_learn-0.24.2-cp37-cp37m-manylinux2010_x86_64.whl (22.3 MB)\n",
            "\u001b[K     |████████████████████████████████| 22.3 MB 1.2 MB/s \n",
            "\u001b[?25hRequirement already satisfied: numpy>=1.17.3 in /usr/local/lib/python3.7/dist-packages (from pandas<2.0.0,>=1.0.0->ppscore) (1.21.6)\n",
            "Requirement already satisfied: python-dateutil>=2.7.3 in /usr/local/lib/python3.7/dist-packages (from pandas<2.0.0,>=1.0.0->ppscore) (2.8.2)\n",
            "Requirement already satisfied: pytz>=2017.3 in /usr/local/lib/python3.7/dist-packages (from pandas<2.0.0,>=1.0.0->ppscore) (2022.1)\n",
            "Requirement already satisfied: six>=1.5 in /usr/local/lib/python3.7/dist-packages (from python-dateutil>=2.7.3->pandas<2.0.0,>=1.0.0->ppscore) (1.15.0)\n",
            "Requirement already satisfied: scipy>=0.19.1 in /usr/local/lib/python3.7/dist-packages (from scikit-learn<1.0.0,>=0.20.2->ppscore) (1.7.3)\n",
            "Requirement already satisfied: threadpoolctl>=2.0.0 in /usr/local/lib/python3.7/dist-packages (from scikit-learn<1.0.0,>=0.20.2->ppscore) (3.1.0)\n",
            "Requirement already satisfied: joblib>=0.11 in /usr/local/lib/python3.7/dist-packages (from scikit-learn<1.0.0,>=0.20.2->ppscore) (1.1.0)\n",
            "Building wheels for collected packages: ppscore\n",
            "  Building wheel for ppscore (setup.py) ... \u001b[?25l\u001b[?25hdone\n",
            "  Created wheel for ppscore: filename=ppscore-1.2.0-py2.py3-none-any.whl size=13068 sha256=cefb566ea53ba91f33d6038a7a71bce223cb223a3f53de7f1e8376425fefcfc2\n",
            "  Stored in directory: /root/.cache/pip/wheels/d2/3c/58/2ff786414b21713edc6f4fdb54fdee89ac37bca5edd1f60634\n",
            "Successfully built ppscore\n",
            "Installing collected packages: scikit-learn, ppscore\n",
            "  Attempting uninstall: scikit-learn\n",
            "    Found existing installation: scikit-learn 1.0.2\n",
            "    Uninstalling scikit-learn-1.0.2:\n",
            "      Successfully uninstalled scikit-learn-1.0.2\n",
            "\u001b[31mERROR: pip's dependency resolver does not currently take into account all the packages that are installed. This behaviour is the source of the following dependency conflicts.\n",
            "yellowbrick 1.4 requires scikit-learn>=1.0.0, but you have scikit-learn 0.24.2 which is incompatible.\u001b[0m\n",
            "Successfully installed ppscore-1.2.0 scikit-learn-0.24.2\n"
          ]
        }
      ],
      "source": [
        "!pip install ppscore"
      ]
    },
    {
      "cell_type": "code",
      "execution_count": 4,
      "metadata": {
        "id": "K0-C0X3ZYupB"
      },
      "outputs": [],
      "source": [
        "# importing libraries\n",
        "import pandas as pd\n",
        "import numpy as np\n",
        "import matplotlib.pyplot as plt\n",
        "import seaborn as sns\n",
        "\n",
        " "
      ]
    },
    {
      "cell_type": "markdown",
      "metadata": {
        "id": "MeFbcScQaX30"
      },
      "source": [
        "# **Problem Statement**\n",
        "\n",
        "\n",
        "Most organizations today rely on email campaigns for effective communication with users. Email communication is one of the popular ways to pitch products to users and build trustworthy relationships with them.\n",
        "\n",
        "\n",
        "**Email campaigns contain different types of CTA (Call To Action). The ultimate goal of email campaigns is to maximize the Click Through Rate (CTR).**\n",
        "\n",
        "\n",
        "CTR is a measure of success for email campaigns. The higher the click rate, the better your email marketing campaign is. CTR is calculated by the no. of users who clicked on at least one of the CTA divided by the total no. of users the email was delivered to.\n",
        "\n",
        "\n",
        "**CTR =   No. of users who clicked on at least one of the CTA / No. of emails delivered**\n",
        "\n",
        "CTR depends on multiple factors like design, content, personalization, etc. \n",
        "\n",
        "\n",
        "How do you design the email content effectively?\n",
        "What should your subject line look like?\n",
        "What should be the length of the email?\n",
        "Do you need images in your email template?\n",
        "\n",
        "As a part of the Data Science team, in this hackathon, you will build a smart system to predict the CTR for email campaigns and therefore identify the critical factors that will help the marketing team to maximize the CTR.\n",
        "\n"
      ]
    },
    {
      "cell_type": "markdown",
      "metadata": {
        "id": "5XQ2liV-bJlV"
      },
      "source": [
        "# Objective\n",
        "\n",
        "\n",
        "Your task at hand is to build a machine learning-based approach to predict the CTR of an email campaign.\n",
        "\n"
      ]
    },
    {
      "cell_type": "markdown",
      "metadata": {
        "id": "So1UKdO_bVCq"
      },
      "source": [
        "## **About the Dataset**\n",
        "\n",
        "\n",
        "You are provided with the information of past email campaigns containing the email attributes like subject and body length, no. of CTA, date and time of an email, type of the audience, whether its a personalized email or not, etc and the target variable indicating the CTR of the email campaign.\n",
        "\n"
      ]
    },
    {
      "cell_type": "markdown",
      "metadata": {
        "id": "fSKLdF9AbsLi"
      },
      "source": [
        "\n",
        "\n",
        "campaign_id - Unique identifier of a campaign\n",
        "\n",
        "sender - Sender of an e-mail\n",
        "\n",
        "subject_len - No. of characters in a subject\n",
        "\n",
        "body_len - No. of characters in an email body\n",
        "\n",
        "mean_paragraph_len - Average no. of characters in paragraph of an email\n",
        "\n",
        "day_of_week - Day on which email is sent\n",
        "\n",
        "is_weekend - Boolean flag indicating if an email is sent on weekend or not\n",
        "\n",
        "times_of_day - Times of day when email is sent: Morning, Noon, Evening\n",
        "\n",
        "category - ategory of the product an email is related to\n",
        "\n",
        "product - Type of the product an email is related to\n",
        "\n",
        "no_of_CTA - No. of Call To Actions in an email\n",
        "\n",
        "mean_CTA_len - Average no. of characters in a CTA \n",
        "\n",
        "is_image - No. of images in an email\n",
        "\n",
        "is_personalised - Boolean flag indicating if an email is personalized to the user or not\n",
        "\n",
        "is_quote - No. of quotes in an email\n",
        "\n",
        "is_timer - Boolean flag indicating if an email contains a timer or not\n",
        "\n",
        "is_emoticons - No. of emoticons in an email\n",
        "\n",
        "is_discount - Boolean flag indicating if an email contains a discount or not\n",
        "\n",
        "is_price - Boolean flag indicating if an email contains price or not\n",
        "\n",
        "is_urgency - Boolean flag indicating if an email contains urgency or not\n",
        "\n",
        "target_audience - Cluster label of the target audience\n",
        "\n",
        "click_rate (Target Variable) - Click rate of an email campaign\n",
        "\n"
      ]
    },
    {
      "cell_type": "code",
      "execution_count": 5,
      "metadata": {
        "id": "R45U54X1ZKMp"
      },
      "outputs": [],
      "source": [
        "# getting data\n",
        "data = pd.read_csv(\"/content/drive/MyDrive/JOB-ATHON/train_F3fUq2S.csv\")"
      ]
    },
    {
      "cell_type": "code",
      "execution_count": 6,
      "metadata": {
        "colab": {
          "base_uri": "https://localhost:8080/",
          "height": 299
        },
        "id": "ke_yMYFbuG0a",
        "outputId": "69127aea-a725-4cdf-e9db-bd72fb1f986c"
      },
      "outputs": [
        {
          "output_type": "execute_result",
          "data": {
            "text/plain": [
              "   campaign_id  sender  subject_len  body_len  mean_paragraph_len  \\\n",
              "0            1       3           76     10439                  39   \n",
              "1            2       3           54      2570                 256   \n",
              "2            3       3           59     12801                  16   \n",
              "3            4       3           74     11037                  30   \n",
              "4            5       3           80     10011                  27   \n",
              "\n",
              "   day_of_week  is_weekend times_of_day  category  product  ...  is_image  \\\n",
              "0            5           1         Noon         6       26  ...         0   \n",
              "1            5           1      Morning         2       11  ...         0   \n",
              "2            5           1         Noon         2       11  ...         1   \n",
              "3            4           0      Evening        15        9  ...         0   \n",
              "4            5           1         Noon         6       26  ...         0   \n",
              "\n",
              "   is_personalised  is_quote  is_timer  is_emoticons  is_discount  is_price  \\\n",
              "0                0         0         0             0            0         0   \n",
              "1                0         0         0             0            0         0   \n",
              "2                0         1         0             0            0         0   \n",
              "3                0         0         0             0            0         0   \n",
              "4                0         1         0             0            0         0   \n",
              "\n",
              "   is_urgency  target_audience  click_rate  \n",
              "0           0               14    0.103079  \n",
              "1           0               10    0.700000  \n",
              "2           0               16    0.002769  \n",
              "3           0               10    0.010868  \n",
              "4           0               14    0.142826  \n",
              "\n",
              "[5 rows x 22 columns]"
            ],
            "text/html": [
              "\n",
              "  <div id=\"df-df46c7f8-461e-47d6-ada6-e9af4ae70019\">\n",
              "    <div class=\"colab-df-container\">\n",
              "      <div>\n",
              "<style scoped>\n",
              "    .dataframe tbody tr th:only-of-type {\n",
              "        vertical-align: middle;\n",
              "    }\n",
              "\n",
              "    .dataframe tbody tr th {\n",
              "        vertical-align: top;\n",
              "    }\n",
              "\n",
              "    .dataframe thead th {\n",
              "        text-align: right;\n",
              "    }\n",
              "</style>\n",
              "<table border=\"1\" class=\"dataframe\">\n",
              "  <thead>\n",
              "    <tr style=\"text-align: right;\">\n",
              "      <th></th>\n",
              "      <th>campaign_id</th>\n",
              "      <th>sender</th>\n",
              "      <th>subject_len</th>\n",
              "      <th>body_len</th>\n",
              "      <th>mean_paragraph_len</th>\n",
              "      <th>day_of_week</th>\n",
              "      <th>is_weekend</th>\n",
              "      <th>times_of_day</th>\n",
              "      <th>category</th>\n",
              "      <th>product</th>\n",
              "      <th>...</th>\n",
              "      <th>is_image</th>\n",
              "      <th>is_personalised</th>\n",
              "      <th>is_quote</th>\n",
              "      <th>is_timer</th>\n",
              "      <th>is_emoticons</th>\n",
              "      <th>is_discount</th>\n",
              "      <th>is_price</th>\n",
              "      <th>is_urgency</th>\n",
              "      <th>target_audience</th>\n",
              "      <th>click_rate</th>\n",
              "    </tr>\n",
              "  </thead>\n",
              "  <tbody>\n",
              "    <tr>\n",
              "      <th>0</th>\n",
              "      <td>1</td>\n",
              "      <td>3</td>\n",
              "      <td>76</td>\n",
              "      <td>10439</td>\n",
              "      <td>39</td>\n",
              "      <td>5</td>\n",
              "      <td>1</td>\n",
              "      <td>Noon</td>\n",
              "      <td>6</td>\n",
              "      <td>26</td>\n",
              "      <td>...</td>\n",
              "      <td>0</td>\n",
              "      <td>0</td>\n",
              "      <td>0</td>\n",
              "      <td>0</td>\n",
              "      <td>0</td>\n",
              "      <td>0</td>\n",
              "      <td>0</td>\n",
              "      <td>0</td>\n",
              "      <td>14</td>\n",
              "      <td>0.103079</td>\n",
              "    </tr>\n",
              "    <tr>\n",
              "      <th>1</th>\n",
              "      <td>2</td>\n",
              "      <td>3</td>\n",
              "      <td>54</td>\n",
              "      <td>2570</td>\n",
              "      <td>256</td>\n",
              "      <td>5</td>\n",
              "      <td>1</td>\n",
              "      <td>Morning</td>\n",
              "      <td>2</td>\n",
              "      <td>11</td>\n",
              "      <td>...</td>\n",
              "      <td>0</td>\n",
              "      <td>0</td>\n",
              "      <td>0</td>\n",
              "      <td>0</td>\n",
              "      <td>0</td>\n",
              "      <td>0</td>\n",
              "      <td>0</td>\n",
              "      <td>0</td>\n",
              "      <td>10</td>\n",
              "      <td>0.700000</td>\n",
              "    </tr>\n",
              "    <tr>\n",
              "      <th>2</th>\n",
              "      <td>3</td>\n",
              "      <td>3</td>\n",
              "      <td>59</td>\n",
              "      <td>12801</td>\n",
              "      <td>16</td>\n",
              "      <td>5</td>\n",
              "      <td>1</td>\n",
              "      <td>Noon</td>\n",
              "      <td>2</td>\n",
              "      <td>11</td>\n",
              "      <td>...</td>\n",
              "      <td>1</td>\n",
              "      <td>0</td>\n",
              "      <td>1</td>\n",
              "      <td>0</td>\n",
              "      <td>0</td>\n",
              "      <td>0</td>\n",
              "      <td>0</td>\n",
              "      <td>0</td>\n",
              "      <td>16</td>\n",
              "      <td>0.002769</td>\n",
              "    </tr>\n",
              "    <tr>\n",
              "      <th>3</th>\n",
              "      <td>4</td>\n",
              "      <td>3</td>\n",
              "      <td>74</td>\n",
              "      <td>11037</td>\n",
              "      <td>30</td>\n",
              "      <td>4</td>\n",
              "      <td>0</td>\n",
              "      <td>Evening</td>\n",
              "      <td>15</td>\n",
              "      <td>9</td>\n",
              "      <td>...</td>\n",
              "      <td>0</td>\n",
              "      <td>0</td>\n",
              "      <td>0</td>\n",
              "      <td>0</td>\n",
              "      <td>0</td>\n",
              "      <td>0</td>\n",
              "      <td>0</td>\n",
              "      <td>0</td>\n",
              "      <td>10</td>\n",
              "      <td>0.010868</td>\n",
              "    </tr>\n",
              "    <tr>\n",
              "      <th>4</th>\n",
              "      <td>5</td>\n",
              "      <td>3</td>\n",
              "      <td>80</td>\n",
              "      <td>10011</td>\n",
              "      <td>27</td>\n",
              "      <td>5</td>\n",
              "      <td>1</td>\n",
              "      <td>Noon</td>\n",
              "      <td>6</td>\n",
              "      <td>26</td>\n",
              "      <td>...</td>\n",
              "      <td>0</td>\n",
              "      <td>0</td>\n",
              "      <td>1</td>\n",
              "      <td>0</td>\n",
              "      <td>0</td>\n",
              "      <td>0</td>\n",
              "      <td>0</td>\n",
              "      <td>0</td>\n",
              "      <td>14</td>\n",
              "      <td>0.142826</td>\n",
              "    </tr>\n",
              "  </tbody>\n",
              "</table>\n",
              "<p>5 rows × 22 columns</p>\n",
              "</div>\n",
              "      <button class=\"colab-df-convert\" onclick=\"convertToInteractive('df-df46c7f8-461e-47d6-ada6-e9af4ae70019')\"\n",
              "              title=\"Convert this dataframe to an interactive table.\"\n",
              "              style=\"display:none;\">\n",
              "        \n",
              "  <svg xmlns=\"http://www.w3.org/2000/svg\" height=\"24px\"viewBox=\"0 0 24 24\"\n",
              "       width=\"24px\">\n",
              "    <path d=\"M0 0h24v24H0V0z\" fill=\"none\"/>\n",
              "    <path d=\"M18.56 5.44l.94 2.06.94-2.06 2.06-.94-2.06-.94-.94-2.06-.94 2.06-2.06.94zm-11 1L8.5 8.5l.94-2.06 2.06-.94-2.06-.94L8.5 2.5l-.94 2.06-2.06.94zm10 10l.94 2.06.94-2.06 2.06-.94-2.06-.94-.94-2.06-.94 2.06-2.06.94z\"/><path d=\"M17.41 7.96l-1.37-1.37c-.4-.4-.92-.59-1.43-.59-.52 0-1.04.2-1.43.59L10.3 9.45l-7.72 7.72c-.78.78-.78 2.05 0 2.83L4 21.41c.39.39.9.59 1.41.59.51 0 1.02-.2 1.41-.59l7.78-7.78 2.81-2.81c.8-.78.8-2.07 0-2.86zM5.41 20L4 18.59l7.72-7.72 1.47 1.35L5.41 20z\"/>\n",
              "  </svg>\n",
              "      </button>\n",
              "      \n",
              "  <style>\n",
              "    .colab-df-container {\n",
              "      display:flex;\n",
              "      flex-wrap:wrap;\n",
              "      gap: 12px;\n",
              "    }\n",
              "\n",
              "    .colab-df-convert {\n",
              "      background-color: #E8F0FE;\n",
              "      border: none;\n",
              "      border-radius: 50%;\n",
              "      cursor: pointer;\n",
              "      display: none;\n",
              "      fill: #1967D2;\n",
              "      height: 32px;\n",
              "      padding: 0 0 0 0;\n",
              "      width: 32px;\n",
              "    }\n",
              "\n",
              "    .colab-df-convert:hover {\n",
              "      background-color: #E2EBFA;\n",
              "      box-shadow: 0px 1px 2px rgba(60, 64, 67, 0.3), 0px 1px 3px 1px rgba(60, 64, 67, 0.15);\n",
              "      fill: #174EA6;\n",
              "    }\n",
              "\n",
              "    [theme=dark] .colab-df-convert {\n",
              "      background-color: #3B4455;\n",
              "      fill: #D2E3FC;\n",
              "    }\n",
              "\n",
              "    [theme=dark] .colab-df-convert:hover {\n",
              "      background-color: #434B5C;\n",
              "      box-shadow: 0px 1px 3px 1px rgba(0, 0, 0, 0.15);\n",
              "      filter: drop-shadow(0px 1px 2px rgba(0, 0, 0, 0.3));\n",
              "      fill: #FFFFFF;\n",
              "    }\n",
              "  </style>\n",
              "\n",
              "      <script>\n",
              "        const buttonEl =\n",
              "          document.querySelector('#df-df46c7f8-461e-47d6-ada6-e9af4ae70019 button.colab-df-convert');\n",
              "        buttonEl.style.display =\n",
              "          google.colab.kernel.accessAllowed ? 'block' : 'none';\n",
              "\n",
              "        async function convertToInteractive(key) {\n",
              "          const element = document.querySelector('#df-df46c7f8-461e-47d6-ada6-e9af4ae70019');\n",
              "          const dataTable =\n",
              "            await google.colab.kernel.invokeFunction('convertToInteractive',\n",
              "                                                     [key], {});\n",
              "          if (!dataTable) return;\n",
              "\n",
              "          const docLinkHtml = 'Like what you see? Visit the ' +\n",
              "            '<a target=\"_blank\" href=https://colab.research.google.com/notebooks/data_table.ipynb>data table notebook</a>'\n",
              "            + ' to learn more about interactive tables.';\n",
              "          element.innerHTML = '';\n",
              "          dataTable['output_type'] = 'display_data';\n",
              "          await google.colab.output.renderOutput(dataTable, element);\n",
              "          const docLink = document.createElement('div');\n",
              "          docLink.innerHTML = docLinkHtml;\n",
              "          element.appendChild(docLink);\n",
              "        }\n",
              "      </script>\n",
              "    </div>\n",
              "  </div>\n",
              "  "
            ]
          },
          "metadata": {},
          "execution_count": 6
        }
      ],
      "source": [
        "# getting first 5 rows\n",
        "data.head()"
      ]
    },
    {
      "cell_type": "code",
      "execution_count": 7,
      "metadata": {
        "colab": {
          "base_uri": "https://localhost:8080/"
        },
        "id": "asQf2ZLbuT5V",
        "outputId": "6c965ad8-2723-4107-919c-29df78344287"
      },
      "outputs": [
        {
          "output_type": "stream",
          "name": "stdout",
          "text": [
            "<class 'pandas.core.frame.DataFrame'>\n",
            "RangeIndex: 1888 entries, 0 to 1887\n",
            "Data columns (total 22 columns):\n",
            " #   Column              Non-Null Count  Dtype  \n",
            "---  ------              --------------  -----  \n",
            " 0   campaign_id         1888 non-null   int64  \n",
            " 1   sender              1888 non-null   int64  \n",
            " 2   subject_len         1888 non-null   int64  \n",
            " 3   body_len            1888 non-null   int64  \n",
            " 4   mean_paragraph_len  1888 non-null   int64  \n",
            " 5   day_of_week         1888 non-null   int64  \n",
            " 6   is_weekend          1888 non-null   int64  \n",
            " 7   times_of_day        1888 non-null   object \n",
            " 8   category            1888 non-null   int64  \n",
            " 9   product             1888 non-null   int64  \n",
            " 10  no_of_CTA           1888 non-null   int64  \n",
            " 11  mean_CTA_len        1888 non-null   int64  \n",
            " 12  is_image            1888 non-null   int64  \n",
            " 13  is_personalised     1888 non-null   int64  \n",
            " 14  is_quote            1888 non-null   int64  \n",
            " 15  is_timer            1888 non-null   int64  \n",
            " 16  is_emoticons        1888 non-null   int64  \n",
            " 17  is_discount         1888 non-null   int64  \n",
            " 18  is_price            1888 non-null   int64  \n",
            " 19  is_urgency          1888 non-null   int64  \n",
            " 20  target_audience     1888 non-null   int64  \n",
            " 21  click_rate          1888 non-null   float64\n",
            "dtypes: float64(1), int64(20), object(1)\n",
            "memory usage: 324.6+ KB\n"
          ]
        }
      ],
      "source": [
        "# info of data\n",
        "data.info()"
      ]
    },
    {
      "cell_type": "code",
      "execution_count": 8,
      "metadata": {
        "colab": {
          "base_uri": "https://localhost:8080/"
        },
        "id": "_vomknWXud84",
        "outputId": "aa8ea980-0b0f-4949-86e4-37c120b92c7d"
      },
      "outputs": [
        {
          "output_type": "execute_result",
          "data": {
            "text/plain": [
              "campaign_id           0\n",
              "sender                0\n",
              "subject_len           0\n",
              "body_len              0\n",
              "mean_paragraph_len    0\n",
              "day_of_week           0\n",
              "is_weekend            0\n",
              "times_of_day          0\n",
              "category              0\n",
              "product               0\n",
              "no_of_CTA             0\n",
              "mean_CTA_len          0\n",
              "is_image              0\n",
              "is_personalised       0\n",
              "is_quote              0\n",
              "is_timer              0\n",
              "is_emoticons          0\n",
              "is_discount           0\n",
              "is_price              0\n",
              "is_urgency            0\n",
              "target_audience       0\n",
              "click_rate            0\n",
              "dtype: int64"
            ]
          },
          "metadata": {},
          "execution_count": 8
        }
      ],
      "source": [
        "#checking null values\n",
        "data.isnull().sum()"
      ]
    },
    {
      "cell_type": "markdown",
      "metadata": {
        "id": "QY4P9ua_utjI"
      },
      "source": [
        "No null values in dataset"
      ]
    },
    {
      "cell_type": "code",
      "execution_count": 8,
      "metadata": {
        "id": "Z3_yNMnKz-41"
      },
      "outputs": [],
      "source": [
        ""
      ]
    },
    {
      "cell_type": "code",
      "execution_count": 9,
      "metadata": {
        "colab": {
          "base_uri": "https://localhost:8080/"
        },
        "id": "41t8YLFZus15",
        "outputId": "c40b4042-6231-4496-8915-928607d53797"
      },
      "outputs": [
        {
          "output_type": "execute_result",
          "data": {
            "text/plain": [
              "0"
            ]
          },
          "metadata": {},
          "execution_count": 9
        }
      ],
      "source": [
        "#checking duplicate rows\n",
        "data.duplicated().sum()"
      ]
    },
    {
      "cell_type": "markdown",
      "metadata": {
        "id": "5TZ8lfDTu3RZ"
      },
      "source": [
        "No duplicate rows"
      ]
    },
    {
      "cell_type": "code",
      "execution_count": 10,
      "metadata": {
        "colab": {
          "base_uri": "https://localhost:8080/"
        },
        "id": "CbTbxKSKz_sk",
        "outputId": "d0ae38d0-b39c-40ee-df97-ae02e29eccf7"
      },
      "outputs": [
        {
          "output_type": "execute_result",
          "data": {
            "text/plain": [
              "(1888, 22)"
            ]
          },
          "metadata": {},
          "execution_count": 10
        }
      ],
      "source": [
        "# shape of data\n",
        "data.shape"
      ]
    },
    {
      "cell_type": "code",
      "execution_count": 11,
      "metadata": {
        "colab": {
          "base_uri": "https://localhost:8080/"
        },
        "id": "G-lwjhBzuqwM",
        "outputId": "18f12b92-1884-4d67-a756-5191814d54a6"
      },
      "outputs": [
        {
          "output_type": "execute_result",
          "data": {
            "text/plain": [
              "array(['Noon', 'Morning', 'Evening'], dtype=object)"
            ]
          },
          "metadata": {},
          "execution_count": 11
        }
      ],
      "source": [
        "#checking unique values of times_of_day        \n",
        "data.times_of_day.unique()        "
      ]
    },
    {
      "cell_type": "code",
      "execution_count": 12,
      "metadata": {
        "colab": {
          "base_uri": "https://localhost:8080/"
        },
        "id": "4uQI0FNUvlNl",
        "outputId": "2b9d6ecc-bc15-4d7d-87eb-d92a5c122ebd"
      },
      "outputs": [
        {
          "output_type": "execute_result",
          "data": {
            "text/plain": [
              "array([5, 4, 3, 2, 1, 0, 6])"
            ]
          },
          "metadata": {},
          "execution_count": 12
        }
      ],
      "source": [
        "data.day_of_week.unique( )"
      ]
    },
    {
      "cell_type": "code",
      "execution_count": 13,
      "metadata": {
        "colab": {
          "base_uri": "https://localhost:8080/"
        },
        "id": "230OjEJAwuTT",
        "outputId": "eb913582-39d4-424c-9bf0-00ded1d0c89c"
      },
      "outputs": [
        {
          "output_type": "execute_result",
          "data": {
            "text/plain": [
              "array([26, 11,  9, 10,  5, 13, 12,  6,  1, 31, 27, 42, 34, 23, 19, 16, 22,\n",
              "       28,  3,  7, 18, 20, 43,  0, 21, 39,  4,  2,  8, 41, 24, 36, 25, 35,\n",
              "       40, 38, 14, 33, 37, 32, 17, 15, 29])"
            ]
          },
          "metadata": {},
          "execution_count": 13
        }
      ],
      "source": [
        "data['product'].unique()"
      ]
    },
    {
      "cell_type": "code",
      "execution_count": 14,
      "metadata": {
        "colab": {
          "base_uri": "https://localhost:8080/"
        },
        "id": "GHLY1P_bwEwE",
        "outputId": "52495dfb-5890-4925-84cc-3aa7b787e5c2"
      },
      "outputs": [
        {
          "output_type": "execute_result",
          "data": {
            "text/plain": [
              "43"
            ]
          },
          "metadata": {},
          "execution_count": 14
        }
      ],
      "source": [
        "data['product'].max()"
      ]
    },
    {
      "cell_type": "code",
      "execution_count": 15,
      "metadata": {
        "colab": {
          "base_uri": "https://localhost:8080/"
        },
        "id": "Kq6pyjvZ52Ut",
        "outputId": "85300034-bfc8-4ae4-c4d5-cc943c4b6bdb"
      },
      "outputs": [
        {
          "output_type": "execute_result",
          "data": {
            "text/plain": [
              "array([0])"
            ]
          },
          "metadata": {},
          "execution_count": 15
        }
      ],
      "source": [
        "data['is_timer'].unique()"
      ]
    },
    {
      "cell_type": "code",
      "execution_count": 16,
      "metadata": {
        "colab": {
          "base_uri": "https://localhost:8080/"
        },
        "id": "mosJnmUT-IqC",
        "outputId": "49ba7d13-c2c3-4234-decb-10221e7267e4"
      },
      "outputs": [
        {
          "output_type": "execute_result",
          "data": {
            "text/plain": [
              "array([ 39, 256,  16,  30,  27,  17,  14,  26,  36,  33,  19,  32,  29,\n",
              "        22,  44,  46,  51,  48,  24,  20,  34,  37,  25,  35,  42,  50,\n",
              "        18,  41,  13,  88,  86,  45,  81,  23, 160,  21,  38,  43, 111,\n",
              "        11, 112,  15,  66,  89,  49,  28,  69,  47, 115,  40,  59,  31,\n",
              "        55, 116,  62,   8,  57,  58,  87,  63,  54,  90,  12, 129,  53,\n",
              "       125,  60,  61,  78,  65, 126,  91,  95,  52,  79,  94,  74,  10,\n",
              "       108, 103, 166,  70,  71, 176,  75,  77,   4, 171, 133, 119,  73,\n",
              "       107,  83,  84,   9,  68,  64, 172,   6,   7,  56, 109, 132,  98,\n",
              "        72, 150, 165, 219,  85, 104, 167, 223, 208,  97,  67, 247, 234,\n",
              "       286, 221, 255, 142])"
            ]
          },
          "metadata": {},
          "execution_count": 16
        }
      ],
      "source": [
        "data['mean_paragraph_len'].unique()"
      ]
    },
    {
      "cell_type": "code",
      "execution_count": 17,
      "metadata": {
        "id": "5wkGgOO97yUN"
      },
      "outputs": [],
      "source": [
        "# dropping is_timer because it has only 0\n",
        "data.drop('is_timer',axis=1,inplace=True)"
      ]
    },
    {
      "cell_type": "markdown",
      "metadata": {
        "id": "KxfheMOUwyQz"
      },
      "source": [
        "There are total 44 products"
      ]
    },
    {
      "cell_type": "code",
      "execution_count": 18,
      "metadata": {
        "id": "n8rq13M5wZVC"
      },
      "outputs": [],
      "source": [
        "from sklearn import preprocessing\n",
        "from sklearn. preprocessing import LabelEncoder\n",
        "#changing categorical value to numerical values\n",
        "labelEncoder= LabelEncoder()\n",
        "data['times_of_day'] = labelEncoder.fit_transform(data['times_of_day'])"
      ]
    },
    {
      "cell_type": "code",
      "execution_count": 19,
      "metadata": {
        "colab": {
          "base_uri": "https://localhost:8080/",
          "height": 299
        },
        "id": "TNCBFWDhyIOB",
        "outputId": "f8d28e28-bacd-45da-c999-0b4f971c856a"
      },
      "outputs": [
        {
          "output_type": "execute_result",
          "data": {
            "text/plain": [
              "   campaign_id  sender  subject_len  body_len  mean_paragraph_len  \\\n",
              "0            1       3           76     10439                  39   \n",
              "1            2       3           54      2570                 256   \n",
              "2            3       3           59     12801                  16   \n",
              "3            4       3           74     11037                  30   \n",
              "4            5       3           80     10011                  27   \n",
              "\n",
              "   day_of_week  is_weekend  times_of_day  category  product  ...  \\\n",
              "0            5           1             2         6       26  ...   \n",
              "1            5           1             1         2       11  ...   \n",
              "2            5           1             2         2       11  ...   \n",
              "3            4           0             0        15        9  ...   \n",
              "4            5           1             2         6       26  ...   \n",
              "\n",
              "   mean_CTA_len  is_image  is_personalised  is_quote  is_emoticons  \\\n",
              "0            29         0                0         0             0   \n",
              "1            22         0                0         0             0   \n",
              "2            23         1                0         1             0   \n",
              "3            24         0                0         0             0   \n",
              "4            31         0                0         1             0   \n",
              "\n",
              "   is_discount  is_price  is_urgency  target_audience  click_rate  \n",
              "0            0         0           0               14    0.103079  \n",
              "1            0         0           0               10    0.700000  \n",
              "2            0         0           0               16    0.002769  \n",
              "3            0         0           0               10    0.010868  \n",
              "4            0         0           0               14    0.142826  \n",
              "\n",
              "[5 rows x 21 columns]"
            ],
            "text/html": [
              "\n",
              "  <div id=\"df-1a2749c9-8695-4e88-ac51-dffeec5db275\">\n",
              "    <div class=\"colab-df-container\">\n",
              "      <div>\n",
              "<style scoped>\n",
              "    .dataframe tbody tr th:only-of-type {\n",
              "        vertical-align: middle;\n",
              "    }\n",
              "\n",
              "    .dataframe tbody tr th {\n",
              "        vertical-align: top;\n",
              "    }\n",
              "\n",
              "    .dataframe thead th {\n",
              "        text-align: right;\n",
              "    }\n",
              "</style>\n",
              "<table border=\"1\" class=\"dataframe\">\n",
              "  <thead>\n",
              "    <tr style=\"text-align: right;\">\n",
              "      <th></th>\n",
              "      <th>campaign_id</th>\n",
              "      <th>sender</th>\n",
              "      <th>subject_len</th>\n",
              "      <th>body_len</th>\n",
              "      <th>mean_paragraph_len</th>\n",
              "      <th>day_of_week</th>\n",
              "      <th>is_weekend</th>\n",
              "      <th>times_of_day</th>\n",
              "      <th>category</th>\n",
              "      <th>product</th>\n",
              "      <th>...</th>\n",
              "      <th>mean_CTA_len</th>\n",
              "      <th>is_image</th>\n",
              "      <th>is_personalised</th>\n",
              "      <th>is_quote</th>\n",
              "      <th>is_emoticons</th>\n",
              "      <th>is_discount</th>\n",
              "      <th>is_price</th>\n",
              "      <th>is_urgency</th>\n",
              "      <th>target_audience</th>\n",
              "      <th>click_rate</th>\n",
              "    </tr>\n",
              "  </thead>\n",
              "  <tbody>\n",
              "    <tr>\n",
              "      <th>0</th>\n",
              "      <td>1</td>\n",
              "      <td>3</td>\n",
              "      <td>76</td>\n",
              "      <td>10439</td>\n",
              "      <td>39</td>\n",
              "      <td>5</td>\n",
              "      <td>1</td>\n",
              "      <td>2</td>\n",
              "      <td>6</td>\n",
              "      <td>26</td>\n",
              "      <td>...</td>\n",
              "      <td>29</td>\n",
              "      <td>0</td>\n",
              "      <td>0</td>\n",
              "      <td>0</td>\n",
              "      <td>0</td>\n",
              "      <td>0</td>\n",
              "      <td>0</td>\n",
              "      <td>0</td>\n",
              "      <td>14</td>\n",
              "      <td>0.103079</td>\n",
              "    </tr>\n",
              "    <tr>\n",
              "      <th>1</th>\n",
              "      <td>2</td>\n",
              "      <td>3</td>\n",
              "      <td>54</td>\n",
              "      <td>2570</td>\n",
              "      <td>256</td>\n",
              "      <td>5</td>\n",
              "      <td>1</td>\n",
              "      <td>1</td>\n",
              "      <td>2</td>\n",
              "      <td>11</td>\n",
              "      <td>...</td>\n",
              "      <td>22</td>\n",
              "      <td>0</td>\n",
              "      <td>0</td>\n",
              "      <td>0</td>\n",
              "      <td>0</td>\n",
              "      <td>0</td>\n",
              "      <td>0</td>\n",
              "      <td>0</td>\n",
              "      <td>10</td>\n",
              "      <td>0.700000</td>\n",
              "    </tr>\n",
              "    <tr>\n",
              "      <th>2</th>\n",
              "      <td>3</td>\n",
              "      <td>3</td>\n",
              "      <td>59</td>\n",
              "      <td>12801</td>\n",
              "      <td>16</td>\n",
              "      <td>5</td>\n",
              "      <td>1</td>\n",
              "      <td>2</td>\n",
              "      <td>2</td>\n",
              "      <td>11</td>\n",
              "      <td>...</td>\n",
              "      <td>23</td>\n",
              "      <td>1</td>\n",
              "      <td>0</td>\n",
              "      <td>1</td>\n",
              "      <td>0</td>\n",
              "      <td>0</td>\n",
              "      <td>0</td>\n",
              "      <td>0</td>\n",
              "      <td>16</td>\n",
              "      <td>0.002769</td>\n",
              "    </tr>\n",
              "    <tr>\n",
              "      <th>3</th>\n",
              "      <td>4</td>\n",
              "      <td>3</td>\n",
              "      <td>74</td>\n",
              "      <td>11037</td>\n",
              "      <td>30</td>\n",
              "      <td>4</td>\n",
              "      <td>0</td>\n",
              "      <td>0</td>\n",
              "      <td>15</td>\n",
              "      <td>9</td>\n",
              "      <td>...</td>\n",
              "      <td>24</td>\n",
              "      <td>0</td>\n",
              "      <td>0</td>\n",
              "      <td>0</td>\n",
              "      <td>0</td>\n",
              "      <td>0</td>\n",
              "      <td>0</td>\n",
              "      <td>0</td>\n",
              "      <td>10</td>\n",
              "      <td>0.010868</td>\n",
              "    </tr>\n",
              "    <tr>\n",
              "      <th>4</th>\n",
              "      <td>5</td>\n",
              "      <td>3</td>\n",
              "      <td>80</td>\n",
              "      <td>10011</td>\n",
              "      <td>27</td>\n",
              "      <td>5</td>\n",
              "      <td>1</td>\n",
              "      <td>2</td>\n",
              "      <td>6</td>\n",
              "      <td>26</td>\n",
              "      <td>...</td>\n",
              "      <td>31</td>\n",
              "      <td>0</td>\n",
              "      <td>0</td>\n",
              "      <td>1</td>\n",
              "      <td>0</td>\n",
              "      <td>0</td>\n",
              "      <td>0</td>\n",
              "      <td>0</td>\n",
              "      <td>14</td>\n",
              "      <td>0.142826</td>\n",
              "    </tr>\n",
              "  </tbody>\n",
              "</table>\n",
              "<p>5 rows × 21 columns</p>\n",
              "</div>\n",
              "      <button class=\"colab-df-convert\" onclick=\"convertToInteractive('df-1a2749c9-8695-4e88-ac51-dffeec5db275')\"\n",
              "              title=\"Convert this dataframe to an interactive table.\"\n",
              "              style=\"display:none;\">\n",
              "        \n",
              "  <svg xmlns=\"http://www.w3.org/2000/svg\" height=\"24px\"viewBox=\"0 0 24 24\"\n",
              "       width=\"24px\">\n",
              "    <path d=\"M0 0h24v24H0V0z\" fill=\"none\"/>\n",
              "    <path d=\"M18.56 5.44l.94 2.06.94-2.06 2.06-.94-2.06-.94-.94-2.06-.94 2.06-2.06.94zm-11 1L8.5 8.5l.94-2.06 2.06-.94-2.06-.94L8.5 2.5l-.94 2.06-2.06.94zm10 10l.94 2.06.94-2.06 2.06-.94-2.06-.94-.94-2.06-.94 2.06-2.06.94z\"/><path d=\"M17.41 7.96l-1.37-1.37c-.4-.4-.92-.59-1.43-.59-.52 0-1.04.2-1.43.59L10.3 9.45l-7.72 7.72c-.78.78-.78 2.05 0 2.83L4 21.41c.39.39.9.59 1.41.59.51 0 1.02-.2 1.41-.59l7.78-7.78 2.81-2.81c.8-.78.8-2.07 0-2.86zM5.41 20L4 18.59l7.72-7.72 1.47 1.35L5.41 20z\"/>\n",
              "  </svg>\n",
              "      </button>\n",
              "      \n",
              "  <style>\n",
              "    .colab-df-container {\n",
              "      display:flex;\n",
              "      flex-wrap:wrap;\n",
              "      gap: 12px;\n",
              "    }\n",
              "\n",
              "    .colab-df-convert {\n",
              "      background-color: #E8F0FE;\n",
              "      border: none;\n",
              "      border-radius: 50%;\n",
              "      cursor: pointer;\n",
              "      display: none;\n",
              "      fill: #1967D2;\n",
              "      height: 32px;\n",
              "      padding: 0 0 0 0;\n",
              "      width: 32px;\n",
              "    }\n",
              "\n",
              "    .colab-df-convert:hover {\n",
              "      background-color: #E2EBFA;\n",
              "      box-shadow: 0px 1px 2px rgba(60, 64, 67, 0.3), 0px 1px 3px 1px rgba(60, 64, 67, 0.15);\n",
              "      fill: #174EA6;\n",
              "    }\n",
              "\n",
              "    [theme=dark] .colab-df-convert {\n",
              "      background-color: #3B4455;\n",
              "      fill: #D2E3FC;\n",
              "    }\n",
              "\n",
              "    [theme=dark] .colab-df-convert:hover {\n",
              "      background-color: #434B5C;\n",
              "      box-shadow: 0px 1px 3px 1px rgba(0, 0, 0, 0.15);\n",
              "      filter: drop-shadow(0px 1px 2px rgba(0, 0, 0, 0.3));\n",
              "      fill: #FFFFFF;\n",
              "    }\n",
              "  </style>\n",
              "\n",
              "      <script>\n",
              "        const buttonEl =\n",
              "          document.querySelector('#df-1a2749c9-8695-4e88-ac51-dffeec5db275 button.colab-df-convert');\n",
              "        buttonEl.style.display =\n",
              "          google.colab.kernel.accessAllowed ? 'block' : 'none';\n",
              "\n",
              "        async function convertToInteractive(key) {\n",
              "          const element = document.querySelector('#df-1a2749c9-8695-4e88-ac51-dffeec5db275');\n",
              "          const dataTable =\n",
              "            await google.colab.kernel.invokeFunction('convertToInteractive',\n",
              "                                                     [key], {});\n",
              "          if (!dataTable) return;\n",
              "\n",
              "          const docLinkHtml = 'Like what you see? Visit the ' +\n",
              "            '<a target=\"_blank\" href=https://colab.research.google.com/notebooks/data_table.ipynb>data table notebook</a>'\n",
              "            + ' to learn more about interactive tables.';\n",
              "          element.innerHTML = '';\n",
              "          dataTable['output_type'] = 'display_data';\n",
              "          await google.colab.output.renderOutput(dataTable, element);\n",
              "          const docLink = document.createElement('div');\n",
              "          docLink.innerHTML = docLinkHtml;\n",
              "          element.appendChild(docLink);\n",
              "        }\n",
              "      </script>\n",
              "    </div>\n",
              "  </div>\n",
              "  "
            ]
          },
          "metadata": {},
          "execution_count": 19
        }
      ],
      "source": [
        "data.head()"
      ]
    },
    {
      "cell_type": "code",
      "execution_count": 20,
      "metadata": {
        "colab": {
          "base_uri": "https://localhost:8080/",
          "height": 410
        },
        "id": "4aO_zaFdxz_y",
        "outputId": "74c06412-0a98-4819-a315-c3d4dca76e6a"
      },
      "outputs": [
        {
          "output_type": "stream",
          "name": "stderr",
          "text": [
            "/usr/local/lib/python3.7/dist-packages/seaborn/_decorators.py:43: FutureWarning: Pass the following variables as keyword args: x, y. From version 0.12, the only valid positional argument will be `data`, and passing other arguments without an explicit keyword will result in an error or misinterpretation.\n",
            "  FutureWarning\n"
          ]
        },
        {
          "output_type": "execute_result",
          "data": {
            "text/plain": [
              "<matplotlib.axes._subplots.AxesSubplot at 0x7f760067a2d0>"
            ]
          },
          "metadata": {},
          "execution_count": 20
        },
        {
          "output_type": "display_data",
          "data": {
            "text/plain": [
              "<Figure size 720x360 with 1 Axes>"
            ],
            "image/png": "[encoded data removed]"
          },
          "metadata": {
            "needs_background": "light"
          }
        }
      ],
      "source": [
        "#click rae vs weekend\n",
        "plt.figure(figsize=(10,5))\n",
        "sns.barplot(data.is_weekend,data.click_rate)"
      ]
    },
    {
      "cell_type": "code",
      "source": [
        "#click rae vs is_image\n",
        "plt.figure(figsize=(10,5))\n",
        "sns.barplot(data.is_image,data.click_rate)"
      ],
      "metadata": {
        "colab": {
          "base_uri": "https://localhost:8080/",
          "height": 410
        },
        "id": "zKSiJhUaB5HA",
        "outputId": "759a6e12-7447-480f-abbb-2ff21c5ee9b3"
      },
      "execution_count": 49,
      "outputs": [
        {
          "output_type": "stream",
          "name": "stderr",
          "text": [
            "/usr/local/lib/python3.7/dist-packages/seaborn/_decorators.py:43: FutureWarning: Pass the following variables as keyword args: x, y. From version 0.12, the only valid positional argument will be `data`, and passing other arguments without an explicit keyword will result in an error or misinterpretation.\n",
            "  FutureWarning\n"
          ]
        },
        {
          "output_type": "execute_result",
          "data": {
            "text/plain": [
              "<matplotlib.axes._subplots.AxesSubplot at 0x7f75e901ef50>"
            ]
          },
          "metadata": {},
          "execution_count": 49
        },
        {
          "output_type": "display_data",
          "data": {
            "text/plain": [
              "<Figure size 720x360 with 1 Axes>"
            ],
            "image/png": "[encoded data removed]"
          },
          "metadata": {
            "needs_background": "light"
          }
        }
      ]
    },
    {
      "cell_type": "code",
      "source": [
        "#click rae vs is_personalised\n",
        "plt.figure(figsize=(10,5))\n",
        "sns.barplot(data.is_personalised,data.click_rate)"
      ],
      "metadata": {
        "colab": {
          "base_uri": "https://localhost:8080/",
          "height": 410
        },
        "id": "xHJ9uWtHH0v3",
        "outputId": "bec5a15a-15fe-4354-c820-d4d6fa0160f8"
      },
      "execution_count": 50,
      "outputs": [
        {
          "output_type": "stream",
          "name": "stderr",
          "text": [
            "/usr/local/lib/python3.7/dist-packages/seaborn/_decorators.py:43: FutureWarning: Pass the following variables as keyword args: x, y. From version 0.12, the only valid positional argument will be `data`, and passing other arguments without an explicit keyword will result in an error or misinterpretation.\n",
            "  FutureWarning\n"
          ]
        },
        {
          "output_type": "execute_result",
          "data": {
            "text/plain": [
              "<matplotlib.axes._subplots.AxesSubplot at 0x7f75e7194590>"
            ]
          },
          "metadata": {},
          "execution_count": 50
        },
        {
          "output_type": "display_data",
          "data": {
            "text/plain": [
              "<Figure size 720x360 with 1 Axes>"
            ],
            "image/png": "[encoded data removed]"
          },
          "metadata": {
            "needs_background": "light"
          }
        }
      ]
    },
    {
      "cell_type": "code",
      "source": [
        "#click rae vs is_urgency\n",
        "plt.figure(figsize=(10,5))\n",
        "sns.barplot(data.is_urgency,data.click_rate)"
      ],
      "metadata": {
        "colab": {
          "base_uri": "https://localhost:8080/",
          "height": 410
        },
        "id": "LAD40p-YIHCg",
        "outputId": "305fb18f-3980-4a99-dc70-61c15448329c"
      },
      "execution_count": 51,
      "outputs": [
        {
          "output_type": "stream",
          "name": "stderr",
          "text": [
            "/usr/local/lib/python3.7/dist-packages/seaborn/_decorators.py:43: FutureWarning: Pass the following variables as keyword args: x, y. From version 0.12, the only valid positional argument will be `data`, and passing other arguments without an explicit keyword will result in an error or misinterpretation.\n",
            "  FutureWarning\n"
          ]
        },
        {
          "output_type": "execute_result",
          "data": {
            "text/plain": [
              "<matplotlib.axes._subplots.AxesSubplot at 0x7f75e7124b10>"
            ]
          },
          "metadata": {},
          "execution_count": 51
        },
        {
          "output_type": "display_data",
          "data": {
            "text/plain": [
              "<Figure size 720x360 with 1 Axes>"
            ],
            "image/png": "[encoded data removed]"
          },
          "metadata": {
            "needs_background": "light"
          }
        }
      ]
    },
    {
      "cell_type": "code",
      "source": [
        "#click rae vs days\n",
        "plt.figure(figsize=(10,5))\n",
        "sns.barplot(data.day_of_week,data.click_rate)"
      ],
      "metadata": {
        "colab": {
          "base_uri": "https://localhost:8080/",
          "height": 410
        },
        "id": "SrRVmRnq0FZ1",
        "outputId": "06523d22-4e10-405b-813a-59a005db3444"
      },
      "execution_count": 21,
      "outputs": [
        {
          "output_type": "stream",
          "name": "stderr",
          "text": [
            "/usr/local/lib/python3.7/dist-packages/seaborn/_decorators.py:43: FutureWarning: Pass the following variables as keyword args: x, y. From version 0.12, the only valid positional argument will be `data`, and passing other arguments without an explicit keyword will result in an error or misinterpretation.\n",
            "  FutureWarning\n"
          ]
        },
        {
          "output_type": "execute_result",
          "data": {
            "text/plain": [
              "<matplotlib.axes._subplots.AxesSubplot at 0x7f75ff1fda50>"
            ]
          },
          "metadata": {},
          "execution_count": 21
        },
        {
          "output_type": "display_data",
          "data": {
            "text/plain": [
              "<Figure size 720x360 with 1 Axes>"
            ],
            "image/png": "[encoded data removed]"
          },
          "metadata": {
            "needs_background": "light"
          }
        }
      ]
    },
    {
      "cell_type": "markdown",
      "source": [
        "it is clearly shown that click rate is most on saturday"
      ],
      "metadata": {
        "id": "C5HwQWDF0PcQ"
      }
    },
    {
      "cell_type": "code",
      "execution_count": 22,
      "metadata": {
        "colab": {
          "base_uri": "https://localhost:8080/",
          "height": 379
        },
        "id": "wJx3BjOv-ShR",
        "outputId": "4c0a63b3-a694-437e-bb70-19983c0821f4"
      },
      "outputs": [
        {
          "output_type": "stream",
          "name": "stderr",
          "text": [
            "/usr/local/lib/python3.7/dist-packages/seaborn/_decorators.py:43: FutureWarning: Pass the following variable as a keyword arg: x. From version 0.12, the only valid positional argument will be `data`, and passing other arguments without an explicit keyword will result in an error or misinterpretation.\n",
            "  FutureWarning\n"
          ]
        },
        {
          "output_type": "execute_result",
          "data": {
            "text/plain": [
              "<matplotlib.axes._subplots.AxesSubplot at 0x7f75ff5527d0>"
            ]
          },
          "metadata": {},
          "execution_count": 22
        },
        {
          "output_type": "display_data",
          "data": {
            "text/plain": [
              "<Figure size 1440x360 with 1 Axes>"
            ],
            "image/png": "[encoded data removed]"
          },
          "metadata": {
            "needs_background": "light"
          }
        }
      ],
      "source": [
        "plt.figure(figsize=(20,5))\n",
        "sns.countplot(data[\"click_rate\"],hue=data[\"is_weekend\"],data=data)"
      ]
    },
    {
      "cell_type": "code",
      "execution_count": 23,
      "metadata": {
        "colab": {
          "base_uri": "https://localhost:8080/",
          "height": 693
        },
        "id": "sVeteP_J5WQh",
        "outputId": "b88be659-3f80-4b96-8b72-a8a937d60ae3"
      },
      "outputs": [
        {
          "output_type": "display_data",
          "data": {
            "text/plain": [
              "<Figure size 1440x720 with 2 Axes>"
            ],
            "image/png": "[encoded data removed]"
          },
          "metadata": {
            "needs_background": "light"
          }
        }
      ],
      "source": [
        "#checking correlation with all columns using heat map\n",
        "corrmat = data.corr()\n",
        "plt.rcParams[\"figure.figsize\"] = (20,10)\n",
        "sns.heatmap(corrmat, vmin=-1,annot = True,cmap='coolwarm')\n",
        "plt.title(\"Heatmap of data\",fontsize= 15)\n",
        "plt.show()"
      ]
    },
    {
      "cell_type": "code",
      "source": [
        "#importing the libraries\n",
        "from sklearn.feature_selection import SelectKBest\n",
        "from sklearn.feature_selection import f_regression"
      ],
      "metadata": {
        "id": "v9Nnfq1JKZU6"
      },
      "execution_count": null,
      "outputs": []
    },
    {
      "cell_type": "code",
      "execution_count": 23,
      "metadata": {
        "id": "BTE51tAH5WL2"
      },
      "outputs": [],
      "source": [
        "independent = data.drop(['Response'], axis=1) #Contain all independent variables\n",
        "dependent = data['Response'] #Contain Dependent variable"
      ]
    },
    {
      "cell_type": "code",
      "execution_count": 23,
      "metadata": {
        "id": "giU8rEdF5WG6"
      },
      "outputs": [],
      "source": [
        "f_scores = f_classif(independent, dependent)\n",
        "f_scores"
      ]
    },
    {
      "cell_type": "code",
      "execution_count": 23,
      "metadata": {
        "id": "mI2CfJmE5WCU"
      },
      "outputs": [],
      "source": [
        "p_values = pd.Series(f_scores[1], index= independent.columns)\n",
        "p_values.plot(kind='bar', color='blue', figsize=(16,5))\n",
        "plt.title('p-value scores for numerical features')\n",
        "plt.show()"
      ]
    },
    {
      "cell_type": "code",
      "execution_count": 23,
      "metadata": {
        "id": "Uk8_4DaQ5V9o"
      },
      "outputs": [],
      "source": [
        ""
      ]
    },
    {
      "cell_type": "code",
      "execution_count": 23,
      "metadata": {
        "id": "u_Yf5WLW5V5D"
      },
      "outputs": [],
      "source": [
        ""
      ]
    },
    {
      "cell_type": "code",
      "execution_count": 23,
      "metadata": {
        "id": "m2l5k8n-5V0O"
      },
      "outputs": [],
      "source": [
        ""
      ]
    },
    {
      "cell_type": "code",
      "execution_count": 23,
      "metadata": {
        "id": "qbbqXNEW5Vvr"
      },
      "outputs": [],
      "source": [
        ""
      ]
    },
    {
      "cell_type": "code",
      "execution_count": 23,
      "metadata": {
        "id": "wH-vhLSO5VrE"
      },
      "outputs": [],
      "source": [
        ""
      ]
    },
    {
      "cell_type": "code",
      "execution_count": 23,
      "metadata": {
        "id": "XuniWs3J5Vms"
      },
      "outputs": [],
      "source": [
        ""
      ]
    },
    {
      "cell_type": "code",
      "execution_count": 23,
      "metadata": {
        "id": "_S5ietk05ViD"
      },
      "outputs": [],
      "source": [
        ""
      ]
    },
    {
      "cell_type": "code",
      "execution_count": 23,
      "metadata": {
        "id": "Cr81QsRy5Vdf"
      },
      "outputs": [],
      "source": [
        ""
      ]
    },
    {
      "cell_type": "code",
      "execution_count": 23,
      "metadata": {
        "id": "fsMw-7T95VZC"
      },
      "outputs": [],
      "source": [
        ""
      ]
    },
    {
      "cell_type": "code",
      "execution_count": 23,
      "metadata": {
        "id": "AsBA3YS95VUs"
      },
      "outputs": [],
      "source": [
        ""
      ]
    },
    {
      "cell_type": "code",
      "execution_count": 23,
      "metadata": {
        "id": "v_E_lNXk5VP4"
      },
      "outputs": [],
      "source": [
        ""
      ]
    },
    {
      "cell_type": "code",
      "execution_count": 23,
      "metadata": {
        "id": "-dINtHpt5VLN"
      },
      "outputs": [],
      "source": [
        ""
      ]
    },
    {
      "cell_type": "code",
      "execution_count": 23,
      "metadata": {
        "id": "SY83_DE-5VGm"
      },
      "outputs": [],
      "source": [
        ""
      ]
    },
    {
      "cell_type": "code",
      "execution_count": 23,
      "metadata": {
        "id": "d_wc1TsM5VCE"
      },
      "outputs": [],
      "source": [
        ""
      ]
    },
    {
      "cell_type": "code",
      "execution_count": 23,
      "metadata": {
        "id": "bdDEpGIu5U9V"
      },
      "outputs": [],
      "source": [
        ""
      ]
    },
    {
      "cell_type": "code",
      "execution_count": 23,
      "metadata": {
        "id": "76yW3U6z5U4z"
      },
      "outputs": [],
      "source": [
        ""
      ]
    },
    {
      "cell_type": "code",
      "execution_count": 23,
      "metadata": {
        "id": "mhWUeyQj5U0I"
      },
      "outputs": [],
      "source": [
        ""
      ]
    },
    {
      "cell_type": "code",
      "execution_count": 23,
      "metadata": {
        "id": "EvZ5VWT_5Uvt"
      },
      "outputs": [],
      "source": [
        ""
      ]
    },
    {
      "cell_type": "code",
      "execution_count": 23,
      "metadata": {
        "id": "1d0UoLRy5UrK"
      },
      "outputs": [],
      "source": [
        ""
      ]
    },
    {
      "cell_type": "code",
      "execution_count": 23,
      "metadata": {
        "id": "CLE9vdJY5UkY"
      },
      "outputs": [],
      "source": [
        ""
      ]
    },
    {
      "cell_type": "code",
      "execution_count": 23,
      "metadata": {
        "id": "sFvHBm705Ubw"
      },
      "outputs": [],
      "source": [
        ""
      ]
    },
    {
      "cell_type": "code",
      "execution_count": 23,
      "metadata": {
        "id": "rATc4wMy5UWc"
      },
      "outputs": [],
      "source": [
        ""
      ]
    },
    {
      "cell_type": "code",
      "execution_count": 23,
      "metadata": {
        "id": "6TXVLna05USN"
      },
      "outputs": [],
      "source": [
        ""
      ]
    },
    {
      "cell_type": "code",
      "execution_count": 23,
      "metadata": {
        "id": "V1EMjtnr5UCj"
      },
      "outputs": [],
      "source": [
        ""
      ]
    },
    {
      "cell_type": "code",
      "execution_count": 24,
      "metadata": {
        "id": "fA_VRfg5yLGz"
      },
      "outputs": [],
      "source": [
        "#Splitting the data into train and test data\n",
        "\n",
        "X = data.drop(['click_rate'], axis=1) #Contain all independent variables\n",
        "y = data['click_rate'] "
      ]
    },
    {
      "cell_type": "code",
      "execution_count": 25,
      "metadata": {
        "id": "QWrv6NxJ1oPV",
        "colab": {
          "base_uri": "https://localhost:8080/"
        },
        "outputId": "a1c0a2bc-0f06-46c5-9c26-eb0f009b77ba"
      },
      "outputs": [
        {
          "output_type": "stream",
          "name": "stdout",
          "text": [
            "(1510, 20) (378, 20) (1510,) (378,)\n"
          ]
        }
      ],
      "source": [
        "from sklearn.model_selection import train_test_split\n",
        "X_train, X_test, y_train, y_test = train_test_split(X,y,test_size=.20,random_state=9)\n",
        "print(X_train.shape,X_test.shape,y_train.shape,y_test.shape)"
      ]
    },
    {
      "cell_type": "code",
      "execution_count": 26,
      "metadata": {
        "id": "_daxtvty22OM"
      },
      "outputs": [],
      "source": [
        "from sklearn.linear_model import Ridge\n",
        "from sklearn.linear_model import Lasso\n",
        "\n",
        "from sklearn.linear_model import LinearRegression\n",
        "from sklearn.preprocessing import PolynomialFeatures\n",
        "from sklearn.ensemble import RandomForestRegressor\n",
        "from sklearn.ensemble import GradientBoostingRegressor\n",
        "from sklearn.tree import DecisionTreeRegressor\n",
        "from xgboost import XGBRegressor\n",
        "from lightgbm import LGBMRegressor\n",
        "from sklearn.metrics import r2_score\n",
        "from sklearn.metrics import mean_squared_error\n",
        "from sklearn.metrics import mean_absolute_error\n"
      ]
    },
    {
      "cell_type": "code",
      "execution_count": 27,
      "metadata": {
        "id": "ZKJR3rac1vTw"
      },
      "outputs": [],
      "source": [
        "reg = LinearRegression()\n",
        "lasso  = Lasso()\n",
        "ridge = Ridge()\n",
        "tree1 = DecisionTreeRegressor(random_state=10)\n",
        "rf = RandomForestRegressor(random_state=10)\n",
        "gdb = GradientBoostingRegressor(random_state=10)\n",
        "xgb = XGBRegressor(random_state=10)\n",
        "lgbm = LGBMRegressor(random_state=10)\n"
      ]
    },
    {
      "cell_type": "code",
      "execution_count": 28,
      "metadata": {
        "id": "oIjZZCUg3H-o"
      },
      "outputs": [],
      "source": [
        "#Defining all these models\n",
        "models = [\n",
        "           ['LinearRegression: ',LinearRegression()],\n",
        "           ['Lasso: ', Lasso()],\n",
        "           ['Ridge: ', Ridge()],\n",
        "           ['PolynomialRegression: ', Ridge()],\n",
        "           ['DecisionTreeRegressor: ',  DecisionTreeRegressor()],\n",
        "           ['RandomForestRegressor: ',RandomForestRegressor()],\n",
        "           ['GradientBoostingRegressor: ', GradientBoostingRegressor()] ,\n",
        "           ['XGBRegressor: ', XGBRegressor()],\n",
        "           ['LGBMRegressor: ', LGBMRegressor()]          \n",
        "        ]"
      ]
    },
    {
      "cell_type": "code",
      "execution_count": 29,
      "metadata": {
        "id": "UiYx2C-V4QJQ",
        "colab": {
          "base_uri": "https://localhost:8080/"
        },
        "outputId": "2f437b05-71ca-4e05-b632-c77df2ae958e"
      },
      "outputs": [
        {
          "output_type": "execute_result",
          "data": {
            "text/plain": [
              "LinearRegression()"
            ]
          },
          "metadata": {},
          "execution_count": 29
        }
      ],
      "source": [
        "# try ploynomial regression model\n",
        "from sklearn.preprocessing import PolynomialFeatures\n",
        "poly = PolynomialFeatures(degree = 3,include_bias=True )\n",
        "X_poly = poly.fit_transform(X_train)\n",
        "X_poly_test = poly.fit_transform(X_test)\n",
        "lin2 = LinearRegression()\n",
        "lin2.fit(X_poly, y_train)"
      ]
    },
    {
      "cell_type": "code",
      "source": [
        "\n",
        "from sklearn.ensemble import RandomForestRegressor\n",
        "rf = RandomForestRegressor()\n",
        "rf.fit(X_train,y_train)\n",
        "y_pred = rf.predict(X_test)\n",
        "print(r2_score(y_test,y_pred)*100)\n",
        "mse=mean_squared_error(y_test,y_pred)\n",
        "print('RMSE :',np.sqrt(mse))\n",
        "\n"
      ],
      "metadata": {
        "colab": {
          "base_uri": "https://localhost:8080/"
        },
        "id": "PS2bJv9pqkqQ",
        "outputId": "d086af58-e222-4f28-9887-a16b4be46e0b"
      },
      "execution_count": 35,
      "outputs": [
        {
          "output_type": "stream",
          "name": "stdout",
          "text": [
            "63.808950471271864\n",
            "RMSE : 0.055291949496400074\n"
          ]
        }
      ]
    },
    {
      "cell_type": "code",
      "source": [
        "import joblib\n",
        "joblib.dump(rf,\"01rf.pkl\")"
      ],
      "metadata": {
        "colab": {
          "base_uri": "https://localhost:8080/"
        },
        "id": "hlgJ-404vKkN",
        "outputId": "1e7a8e53-e50c-4c16-a1b2-ef9ecc1b33cd"
      },
      "execution_count": 36,
      "outputs": [
        {
          "output_type": "execute_result",
          "data": {
            "text/plain": [
              "['01rf.pkl']"
            ]
          },
          "metadata": {},
          "execution_count": 36
        }
      ]
    },
    {
      "cell_type": "code",
      "source": [
        "test=pd.read_csv(\"/content/drive/MyDrive/JOB-ATHON/test_Bk2wfZ3.csv\")"
      ],
      "metadata": {
        "id": "YClm930LwLLl"
      },
      "execution_count": 37,
      "outputs": []
    },
    {
      "cell_type": "code",
      "source": [
        "from sklearn import preprocessing\n",
        "from sklearn. preprocessing import LabelEncoder\n",
        "#changing categorical value to numerical values\n",
        "labelEncoder= LabelEncoder()\n",
        "test['times_of_day'] = labelEncoder.fit_transform(test['times_of_day'])"
      ],
      "metadata": {
        "id": "eDu_KxT6x98L"
      },
      "execution_count": 39,
      "outputs": []
    },
    {
      "cell_type": "code",
      "source": [
        "test.drop('is_timer',axis=1,inplace=True)"
      ],
      "metadata": {
        "id": "kc_J9RpDyDry"
      },
      "execution_count": 40,
      "outputs": []
    },
    {
      "cell_type": "code",
      "source": [
        "test_pred=rf.predict(test)"
      ],
      "metadata": {
        "id": "3a3f8BQcyc5G"
      },
      "execution_count": 41,
      "outputs": []
    },
    {
      "cell_type": "code",
      "source": [
        "sub=pd.read_csv(\"/content/drive/MyDrive/JOB-ATHON/sample_submission_LJ2N3ZQ.csv\")"
      ],
      "metadata": {
        "id": "H0zVqvBIynjL"
      },
      "execution_count": 42,
      "outputs": []
    },
    {
      "cell_type": "code",
      "source": [
        "sub"
      ],
      "metadata": {
        "colab": {
          "base_uri": "https://localhost:8080/",
          "height": 423
        },
        "id": "_lJ8TtC9y_uG",
        "outputId": "60b64a85-7f3f-48bb-f8e5-e9d147a4dbf7"
      },
      "execution_count": 43,
      "outputs": [
        {
          "output_type": "execute_result",
          "data": {
            "text/plain": [
              "     campaign_id  click_rate\n",
              "0           1889    0.043454\n",
              "1           1890    0.043454\n",
              "2           1891    0.043454\n",
              "3           1892    0.043454\n",
              "4           1893    0.043454\n",
              "..           ...         ...\n",
              "757         2646    0.043454\n",
              "758         2647    0.043454\n",
              "759         2648    0.043454\n",
              "760         2649    0.043454\n",
              "761         2650    0.043454\n",
              "\n",
              "[762 rows x 2 columns]"
            ],
            "text/html": [
              "\n",
              "  <div id=\"df-0803cbf9-feca-4442-9438-e9fb7d0d1ab6\">\n",
              "    <div class=\"colab-df-container\">\n",
              "      <div>\n",
              "<style scoped>\n",
              "    .dataframe tbody tr th:only-of-type {\n",
              "        vertical-align: middle;\n",
              "    }\n",
              "\n",
              "    .dataframe tbody tr th {\n",
              "        vertical-align: top;\n",
              "    }\n",
              "\n",
              "    .dataframe thead th {\n",
              "        text-align: right;\n",
              "    }\n",
              "</style>\n",
              "<table border=\"1\" class=\"dataframe\">\n",
              "  <thead>\n",
              "    <tr style=\"text-align: right;\">\n",
              "      <th></th>\n",
              "      <th>campaign_id</th>\n",
              "      <th>click_rate</th>\n",
              "    </tr>\n",
              "  </thead>\n",
              "  <tbody>\n",
              "    <tr>\n",
              "      <th>0</th>\n",
              "      <td>1889</td>\n",
              "      <td>0.043454</td>\n",
              "    </tr>\n",
              "    <tr>\n",
              "      <th>1</th>\n",
              "      <td>1890</td>\n",
              "      <td>0.043454</td>\n",
              "    </tr>\n",
              "    <tr>\n",
              "      <th>2</th>\n",
              "      <td>1891</td>\n",
              "      <td>0.043454</td>\n",
              "    </tr>\n",
              "    <tr>\n",
              "      <th>3</th>\n",
              "      <td>1892</td>\n",
              "      <td>0.043454</td>\n",
              "    </tr>\n",
              "    <tr>\n",
              "      <th>4</th>\n",
              "      <td>1893</td>\n",
              "      <td>0.043454</td>\n",
              "    </tr>\n",
              "    <tr>\n",
              "      <th>...</th>\n",
              "      <td>...</td>\n",
              "      <td>...</td>\n",
              "    </tr>\n",
              "    <tr>\n",
              "      <th>757</th>\n",
              "      <td>2646</td>\n",
              "      <td>0.043454</td>\n",
              "    </tr>\n",
              "    <tr>\n",
              "      <th>758</th>\n",
              "      <td>2647</td>\n",
              "      <td>0.043454</td>\n",
              "    </tr>\n",
              "    <tr>\n",
              "      <th>759</th>\n",
              "      <td>2648</td>\n",
              "      <td>0.043454</td>\n",
              "    </tr>\n",
              "    <tr>\n",
              "      <th>760</th>\n",
              "      <td>2649</td>\n",
              "      <td>0.043454</td>\n",
              "    </tr>\n",
              "    <tr>\n",
              "      <th>761</th>\n",
              "      <td>2650</td>\n",
              "      <td>0.043454</td>\n",
              "    </tr>\n",
              "  </tbody>\n",
              "</table>\n",
              "<p>762 rows × 2 columns</p>\n",
              "</div>\n",
              "      <button class=\"colab-df-convert\" onclick=\"convertToInteractive('df-0803cbf9-feca-4442-9438-e9fb7d0d1ab6')\"\n",
              "              title=\"Convert this dataframe to an interactive table.\"\n",
              "              style=\"display:none;\">\n",
              "        \n",
              "  <svg xmlns=\"http://www.w3.org/2000/svg\" height=\"24px\"viewBox=\"0 0 24 24\"\n",
              "       width=\"24px\">\n",
              "    <path d=\"M0 0h24v24H0V0z\" fill=\"none\"/>\n",
              "    <path d=\"M18.56 5.44l.94 2.06.94-2.06 2.06-.94-2.06-.94-.94-2.06-.94 2.06-2.06.94zm-11 1L8.5 8.5l.94-2.06 2.06-.94-2.06-.94L8.5 2.5l-.94 2.06-2.06.94zm10 10l.94 2.06.94-2.06 2.06-.94-2.06-.94-.94-2.06-.94 2.06-2.06.94z\"/><path d=\"M17.41 7.96l-1.37-1.37c-.4-.4-.92-.59-1.43-.59-.52 0-1.04.2-1.43.59L10.3 9.45l-7.72 7.72c-.78.78-.78 2.05 0 2.83L4 21.41c.39.39.9.59 1.41.59.51 0 1.02-.2 1.41-.59l7.78-7.78 2.81-2.81c.8-.78.8-2.07 0-2.86zM5.41 20L4 18.59l7.72-7.72 1.47 1.35L5.41 20z\"/>\n",
              "  </svg>\n",
              "      </button>\n",
              "      \n",
              "  <style>\n",
              "    .colab-df-container {\n",
              "      display:flex;\n",
              "      flex-wrap:wrap;\n",
              "      gap: 12px;\n",
              "    }\n",
              "\n",
              "    .colab-df-convert {\n",
              "      background-color: #E8F0FE;\n",
              "      border: none;\n",
              "      border-radius: 50%;\n",
              "      cursor: pointer;\n",
              "      display: none;\n",
              "      fill: #1967D2;\n",
              "      height: 32px;\n",
              "      padding: 0 0 0 0;\n",
              "      width: 32px;\n",
              "    }\n",
              "\n",
              "    .colab-df-convert:hover {\n",
              "      background-color: #E2EBFA;\n",
              "      box-shadow: 0px 1px 2px rgba(60, 64, 67, 0.3), 0px 1px 3px 1px rgba(60, 64, 67, 0.15);\n",
              "      fill: #174EA6;\n",
              "    }\n",
              "\n",
              "    [theme=dark] .colab-df-convert {\n",
              "      background-color: #3B4455;\n",
              "      fill: #D2E3FC;\n",
              "    }\n",
              "\n",
              "    [theme=dark] .colab-df-convert:hover {\n",
              "      background-color: #434B5C;\n",
              "      box-shadow: 0px 1px 3px 1px rgba(0, 0, 0, 0.15);\n",
              "      filter: drop-shadow(0px 1px 2px rgba(0, 0, 0, 0.3));\n",
              "      fill: #FFFFFF;\n",
              "    }\n",
              "  </style>\n",
              "\n",
              "      <script>\n",
              "        const buttonEl =\n",
              "          document.querySelector('#df-0803cbf9-feca-4442-9438-e9fb7d0d1ab6 button.colab-df-convert');\n",
              "        buttonEl.style.display =\n",
              "          google.colab.kernel.accessAllowed ? 'block' : 'none';\n",
              "\n",
              "        async function convertToInteractive(key) {\n",
              "          const element = document.querySelector('#df-0803cbf9-feca-4442-9438-e9fb7d0d1ab6');\n",
              "          const dataTable =\n",
              "            await google.colab.kernel.invokeFunction('convertToInteractive',\n",
              "                                                     [key], {});\n",
              "          if (!dataTable) return;\n",
              "\n",
              "          const docLinkHtml = 'Like what you see? Visit the ' +\n",
              "            '<a target=\"_blank\" href=https://colab.research.google.com/notebooks/data_table.ipynb>data table notebook</a>'\n",
              "            + ' to learn more about interactive tables.';\n",
              "          element.innerHTML = '';\n",
              "          dataTable['output_type'] = 'display_data';\n",
              "          await google.colab.output.renderOutput(dataTable, element);\n",
              "          const docLink = document.createElement('div');\n",
              "          docLink.innerHTML = docLinkHtml;\n",
              "          element.appendChild(docLink);\n",
              "        }\n",
              "      </script>\n",
              "    </div>\n",
              "  </div>\n",
              "  "
            ]
          },
          "metadata": {},
          "execution_count": 43
        }
      ]
    },
    {
      "cell_type": "code",
      "source": [
        "ser=pd.Series(test_pred)"
      ],
      "metadata": {
        "id": "rC36cKdOzKDG"
      },
      "execution_count": 44,
      "outputs": []
    },
    {
      "cell_type": "code",
      "source": [
        "sub[\"click_rate\"]=ser"
      ],
      "metadata": {
        "id": "-W6ufmKyzqn2"
      },
      "execution_count": null,
      "outputs": []
    },
    {
      "cell_type": "code",
      "source": [
        "sub.isnull().sum()"
      ],
      "metadata": {
        "colab": {
          "base_uri": "https://localhost:8080/"
        },
        "id": "qpxkBkak0MM1",
        "outputId": "1445c31d-4730-4d9f-b6a9-e08ffab04020"
      },
      "execution_count": 45,
      "outputs": [
        {
          "output_type": "execute_result",
          "data": {
            "text/plain": [
              "campaign_id    0\n",
              "click_rate     0\n",
              "dtype: int64"
            ]
          },
          "metadata": {},
          "execution_count": 45
        }
      ]
    },
    {
      "cell_type": "code",
      "source": [
        ""
      ],
      "metadata": {
        "id": "9kGx0BAl2y45"
      },
      "execution_count": null,
      "outputs": []
    },
    {
      "cell_type": "code",
      "source": [
        "sub.to_csv(\"/content/drive/MyDrive/JOB-ATHON/submission_file_01_csv.csv\",columns=[\"campaign_id\",\"click_rate\"],index=False)"
      ],
      "metadata": {
        "id": "rpwVc34r0FTo"
      },
      "execution_count": 48,
      "outputs": []
    },
    {
      "cell_type": "code",
      "source": [
        "#rf_01=joblib.open(\"01rf.pkl\")"
      ],
      "metadata": {
        "colab": {
          "base_uri": "https://localhost:8080/",
          "height": 171
        },
        "id": "zyFlyYodwYiO",
        "outputId": "61a4ac54-0410-432f-a24c-938963c9a6ad"
      },
      "execution_count": 38,
      "outputs": [
        {
          "output_type": "error",
          "ename": "AttributeError",
          "evalue": "ignored",
          "traceback": [
            "\u001b[0;31m---------------------------------------------------------------------------\u001b[0m",
            "\u001b[0;31mAttributeError\u001b[0m                            Traceback (most recent call last)",
            "\u001b[0;32m<ipython-input-38-55f4fbc07493>\u001b[0m in \u001b[0;36m<module>\u001b[0;34m()\u001b[0m\n\u001b[0;32m----> 1\u001b[0;31m \u001b[0mrf_01\u001b[0m\u001b[0;34m=\u001b[0m\u001b[0mjoblib\u001b[0m\u001b[0;34m.\u001b[0m\u001b[0mopen\u001b[0m\u001b[0;34m(\u001b[0m\u001b[0;34m\"01rf.pkl\"\u001b[0m\u001b[0;34m)\u001b[0m\u001b[0;34m\u001b[0m\u001b[0;34m\u001b[0m\u001b[0m\n\u001b[0m",
            "\u001b[0;31mAttributeError\u001b[0m: module 'joblib' has no attribute 'open'"
          ]
        }
      ]
    },
    {
      "cell_type": "code",
      "execution_count": null,
      "metadata": {
        "id": "0qIk3C1p3p3n"
      },
      "outputs": [],
      "source": [
        "#store all the metrics values in data frame\n",
        "model_data = []\n",
        "for name,curr_model in models :\n",
        "    curr_model_data = {}\n",
        "    curr_model.random_state = 10\n",
        "    curr_model_data[\"Name\"] = name\n",
        "    if(name!='PolynomialRegression: '):\n",
        "      curr_model.fit(X_train,y_train)\n",
        "      curr_model_data[\"MAE_train\"] =mean_absolute_error(y_train, curr_model.predict(X_train))\n",
        "      curr_model_data[\"MAE_test\"] =mean_absolute_error(y_test, curr_model.predict(X_test))\n",
        "      curr_model_data[\"R2_Score_train\"] = r2_score(y_train,curr_model.predict(X_train))\n",
        "      curr_model_data[\"R2_Score_test\"] = r2_score(y_test,curr_model.predict(X_test))\n",
        "      curr_model_data[\"RMSE_Score_train\"] = np.sqrt(mean_squared_error(y_train,curr_model.predict(X_train)))\n",
        "      curr_model_data[\"RMSE_Score_test\"] = np.sqrt(mean_squared_error(y_test,curr_model.predict(X_test)))\n",
        "      model_data.append(curr_model_data)\n",
        "    else:\n",
        "      curr_model.fit(X_poly,y_train)\n",
        "      curr_model_data[\"MAE_train\"] =mean_absolute_error(y_train, curr_model.predict(X_poly))\n",
        "      curr_model_data[\"MAE_test\"] =mean_absolute_error(y_test, curr_model.predict(X_poly_test))\n",
        "      curr_model_data[\"R2_Score_train\"] = r2_score(y_train,curr_model.predict(X_poly))\n",
        "      curr_model_data[\"R2_Score_test\"] = r2_score(y_test,curr_model.predict(X_poly_test))\n",
        "      curr_model_data[\"RMSE_Score_train\"] = np.sqrt(mean_squared_error(y_train,curr_model.predict(X_poly)))\n",
        "      curr_model_data[\"RMSE_Score_test\"] = np.sqrt(mean_squared_error(y_test,curr_model.predict(X_poly_test)))\n",
        "      model_data.append(curr_model_data)"
      ]
    },
    {
      "cell_type": "code",
      "execution_count": null,
      "metadata": {
        "id": "1e8KTjdj3t8t"
      },
      "outputs": [],
      "source": [
        "metrics_df1 = pd.DataFrame(model_data)\n",
        "metrics_df1"
      ]
    }
  ],
  "metadata": {
    "colab": {
      "name": "CTR for email campaigns.ipynb",
      "provenance": [],
      "collapsed_sections": [],
      "mount_file_id": "11rDWM0uBy_5ShTRCLIR2O1Wxkbld3_BJ",
      "authorship_tag": "ABX9TyNOudP8w4f4G9jyWfygFQmh",
      "include_colab_link": true
    },
    "kernelspec": {
      "display_name": "Python 3",
      "name": "python3"
    },
    "language_info": {
      "name": "python"
    }
  },
  "nbformat": 4,
  "nbformat_minor": 0
}